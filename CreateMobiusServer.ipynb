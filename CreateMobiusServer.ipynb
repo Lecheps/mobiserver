{
 "cells": [
  {
   "cell_type": "code",
   "execution_count": 1,
   "metadata": {},
   "outputs": [],
   "source": [
    "from fabric import Connection\n",
    "from subprocess import Popen, PIPE, CalledProcessError\n",
    "from dateutil import parser\n",
    "import copy\n",
    "import time\n",
    "import uuid\n",
    "import os\n",
    "import io\n",
    "from invoke import Responder\n",
    "from IPython.display import display, clear_output\n",
    "\n",
    "import gce_api\n",
    "\n",
    "#This can be used to call local shell commands\n",
    "options = {'stdout': PIPE, 'stderr': PIPE, 'bufsize' : 1, 'universal_newlines' : True, 'shell' : False}\n",
    "def callPopen(cmd,verbose=True,overwrite=False,additionalDisplay=''):\n",
    "    with Popen(cmd.split(),**options) as p:\n",
    "        if verbose and not overwrite:\n",
    "            for line in p.stdout:\n",
    "                print(line, end='')\n",
    "        if verbose and overwrite:\n",
    "            dq = collections.deque(maxlen=10)\n",
    "            for line in p.stdout:\n",
    "                dq.append(line)\n",
    "                clear_output(wait=True)\n",
    "                print(additionalDisplay,''.join(list(dq)),sep='\\n')\n",
    "        for line in p.stderr:\n",
    "            print(line, end='')\n",
    "        if p.returncode != (0 or None):\n",
    "            raise CalledProcessError(p.returncode, p.args)"
   ]
  },
  {
   "cell_type": "markdown",
   "metadata": {},
   "source": [
    "# Setting up ftp server for Mobius models\n",
    "## Creating virtual machine with dependencies"
   ]
  },
  {
   "cell_type": "code",
   "execution_count": 2,
   "metadata": {},
   "outputs": [
    {
     "data": {
      "text/plain": [
       "{}"
      ]
     },
     "metadata": {},
     "output_type": "display_data"
    },
    {
     "data": {
      "text/plain": [
       "'Can now talk to project nivacatchment'"
      ]
     },
     "metadata": {},
     "output_type": "display_data"
    }
   ],
   "source": [
    "#Testing connection to google cloud\n",
    "cloudInfo = {'project': 'nivacatchment',\n",
    "             'zone': 'europe-west3-a'\n",
    "             }\n",
    "gce = gce_api.gce_api('/home/jose-luis/Envs/gce_framework/code/keys/nivacatchment.json',cloudInfo)\n",
    "\n",
    "info = gce.get('projectInfo')\n",
    "display('Can now talk to project {}'.format(info['name']))"
   ]
  },
  {
   "cell_type": "code",
   "execution_count": 3,
   "metadata": {},
   "outputs": [
    {
     "data": {
      "text/plain": [
       "{}"
      ]
     },
     "metadata": {},
     "output_type": "display_data"
    },
    {
     "data": {
      "text/plain": [
       "[('https://www.googleapis.com/compute/v1/projects/debian-cloud/global/images/debian-9-stretch-v20190618',\n",
       "  datetime.datetime(2019, 6, 18, 16, 3, 47, 268000, tzinfo=tzoffset(None, -25200)))]"
      ]
     },
     "metadata": {},
     "output_type": "display_data"
    }
   ],
   "source": [
    "#Getting list of debian images that have not been deprecated\n",
    "debian = copy.deepcopy(cloudInfo)\n",
    "debian['project'] = 'debian-cloud'\n",
    "info = gce.get('imagesList', properties=debian)\n",
    "currentImages = sorted([(i['selfLink'],parser.parse(i['creationTimestamp'])) for i in info['items'] if 'deprecated' not in i],key=lambda x:x[1])\n",
    "display(currentImages)"
   ]
  },
  {
   "cell_type": "code",
   "execution_count": 4,
   "metadata": {},
   "outputs": [
    {
     "data": {
      "text/plain": [
       "{'project': 'nivacatchment', 'zone': 'europe-west3-a'}"
      ]
     },
     "metadata": {},
     "output_type": "display_data"
    },
    {
     "data": {
      "text/plain": [
       "{}"
      ]
     },
     "metadata": {},
     "output_type": "display_data"
    },
    {
     "data": {
      "text/plain": [
       "{}"
      ]
     },
     "metadata": {},
     "output_type": "display_data"
    },
    {
     "data": {
      "text/plain": [
       "{'id': '6293874932084185096',\n",
       " 'name': 'operation-1563469543003-58df79eba548c-837638da-55d631ac',\n",
       " 'operationType': 'delete',\n",
       " 'targetLink': 'https://www.googleapis.com/compute/v1/projects/nivacatchment/global/firewalls/ftp',\n",
       " 'targetId': '6818240217873193648',\n",
       " 'status': 'RUNNING',\n",
       " 'user': 'workshop-key@nivacatchment.iam.gserviceaccount.com',\n",
       " 'progress': 0,\n",
       " 'insertTime': '2019-07-18T10:05:43.445-07:00',\n",
       " 'startTime': '2019-07-18T10:05:43.459-07:00',\n",
       " 'selfLink': 'https://www.googleapis.com/compute/v1/projects/nivacatchment/global/operations/operation-1563469543003-58df79eba548c-837638da-55d631ac',\n",
       " 'kind': 'compute#operation'}"
      ]
     },
     "metadata": {},
     "output_type": "display_data"
    },
    {
     "data": {
      "text/plain": [
       "{}"
      ]
     },
     "metadata": {},
     "output_type": "display_data"
    },
    {
     "data": {
      "text/plain": [
       "{}"
      ]
     },
     "metadata": {},
     "output_type": "display_data"
    },
    {
     "data": {
      "text/plain": [
       "{}"
      ]
     },
     "metadata": {},
     "output_type": "display_data"
    },
    {
     "data": {
      "text/plain": [
       "{}"
      ]
     },
     "metadata": {},
     "output_type": "display_data"
    },
    {
     "data": {
      "text/plain": [
       "{}"
      ]
     },
     "metadata": {},
     "output_type": "display_data"
    },
    {
     "data": {
      "text/plain": [
       "{}"
      ]
     },
     "metadata": {},
     "output_type": "display_data"
    },
    {
     "data": {
      "text/plain": [
       "{}"
      ]
     },
     "metadata": {},
     "output_type": "display_data"
    },
    {
     "data": {
      "text/plain": [
       "{}"
      ]
     },
     "metadata": {},
     "output_type": "display_data"
    },
    {
     "data": {
      "text/plain": [
       "{}"
      ]
     },
     "metadata": {},
     "output_type": "display_data"
    },
    {
     "data": {
      "text/plain": [
       "{'json': {'name': 'ftp',\n",
       "  'allowed': [{'IPProtocol': 'tcp', 'ports': ['20', '21', '40110-40210']}],\n",
       "  'sourceRanges': ['151.157.0.0/16', '84.213.196.40/32'],\n",
       "  'targetTags': ['ftp']}}"
      ]
     },
     "metadata": {},
     "output_type": "display_data"
    },
    {
     "data": {
      "text/plain": [
       "{'kind': 'compute#operation',\n",
       " 'id': '5453170173774993439',\n",
       " 'name': 'operation-1563469551317-58df79f39310d-c5f81420-3f8c0613',\n",
       " 'operationType': 'insert',\n",
       " 'targetLink': 'https://www.googleapis.com/compute/v1/projects/nivacatchment/global/firewalls/ftp',\n",
       " 'targetId': '7725773164069591071',\n",
       " 'status': 'RUNNING',\n",
       " 'user': 'workshop-key@nivacatchment.iam.gserviceaccount.com',\n",
       " 'progress': 0,\n",
       " 'insertTime': '2019-07-18T10:05:52.353-07:00',\n",
       " 'startTime': '2019-07-18T10:05:52.368-07:00',\n",
       " 'selfLink': 'https://www.googleapis.com/compute/v1/projects/nivacatchment/global/operations/operation-1563469551317-58df79f39310d-c5f81420-3f8c0613'}"
      ]
     },
     "metadata": {},
     "output_type": "display_data"
    }
   ],
   "source": [
    "#Creating firewall rule that will allow ftp connections to the vm\n",
    "display(cloudInfo)\n",
    "info = gce.get('firewallList',properties=cloudInfo)\n",
    "firewalls = [i['name'] for i in info['items']]\n",
    "ftp = {\n",
    "  \"name\" : \"ftp\",  \n",
    "  \"allowed\": [\n",
    "    {\n",
    "      \"IPProtocol\": \"tcp\",\n",
    "      \"ports\": [\n",
    "        \"20\",\n",
    "        \"21\",\n",
    "        \"40110-40210\"\n",
    "      ]\n",
    "    }\n",
    "  ],\n",
    "  \"sourceRanges\": [\n",
    "    \"151.157.0.0/16\",\n",
    "    \"84.213.196.40/32\"\n",
    "  ],\n",
    "  \"targetTags\": [\n",
    "    \"ftp\"\n",
    "  ]\n",
    "}\n",
    "\n",
    "if 'ftp' in firewalls:\n",
    "    cloudInfo['firewallName'] = 'ftp'\n",
    "    info = gce.delete('firewallResource')\n",
    "    display(info)\n",
    "\n",
    "#Waiting until the firewall has been deleted\n",
    "info = gce.get('firewallList')\n",
    "firewalls = [i['name'] for i in info['items']]\n",
    "\n",
    "while 'ftp' in firewalls:\n",
    "    time.sleep(0.5)\n",
    "    info=gce.get('firewallList')\n",
    "    firewalls = [i['name'] for i in info['items']]\n",
    " \n",
    "# Actually creating the firewall\n",
    "info = gce.post('firewallList',json=ftp)\n",
    "display(info)"
   ]
  },
  {
   "cell_type": "code",
   "execution_count": 5,
   "metadata": {},
   "outputs": [
    {
     "data": {
      "text/plain": [
       "'431b9b3d-743a-4662-8ee6-ff940ca9bbcd'"
      ]
     },
     "metadata": {},
     "output_type": "display_data"
    }
   ],
   "source": [
    "#Unique id for the instantiation request\n",
    "requestId =  str(uuid.uuid4())\n",
    "display(requestId)"
   ]
  },
  {
   "cell_type": "code",
   "execution_count": 6,
   "metadata": {},
   "outputs": [
    {
     "name": "stdout",
     "output_type": "stream",
     "text": [
      "(b\"Generating public/private rsa key pair.\\n./jose-luis already exists.\\nOverwrite (y/n)? Your identification has been saved in ./jose-luis.\\nYour public key has been saved in ./jose-luis.pub.\\nThe key fingerprint is:\\nSHA256:HrHVP2GdENDiXXn4mhxTWdAtYvn2Nv8MrTJK77qqtlw jose-luis\\nThe key's randomart image is:\\n+---[RSA 2048]----+\\n|           .o+o+*|\\n|           o+.+=*|\\n|        . o.+o+=o|\\n|         + . +=..|\\n|        S    oo* |\\n|       . .    ++o|\\n|        E .   ..+|\\n|     ... . .o  +.|\\n|     .+o..+=oo. +|\\n+----[SHA256]-----+\\n\", b'')\n"
     ]
    }
   ],
   "source": [
    "#Setting VM infoCreating ssh file\n",
    "gce.properties['instanceType'] = \"n1-standard-2\"\n",
    "gce.properties['instanceName'] = \"mobiserver\"\n",
    "gce.properties['username'] = \"jose-luis\"\n",
    "gce.properties['keyDir'] = './'\n",
    "gce.properties['keyFile'] = F'{os.path.join(gce.properties[\"keyDir\"],gce.properties[\"username\"])}'\n",
    "gce.properties['pubKeyFile'] = F'{gce.properties[\"keyFile\"] + \".pub\"}'\n",
    "\n",
    "gce.generateSSHKey()"
   ]
  },
  {
   "cell_type": "code",
   "execution_count": 7,
   "metadata": {},
   "outputs": [],
   "source": [
    "with open (gce.properties['pubKeyFile'],'r') as f:\n",
    "    pub = f.read().strip()"
   ]
  },
  {
   "cell_type": "code",
   "execution_count": 8,
   "metadata": {},
   "outputs": [
    {
     "data": {
      "text/plain": [
       "{}"
      ]
     },
     "metadata": {},
     "output_type": "display_data"
    },
    {
     "data": {
      "text/plain": [
       "{'json': {'machineType': 'zones/europe-west3-a/machineTypes/n1-standard-2',\n",
       "  'name': 'mobiserver',\n",
       "  'canIpForward': 'false',\n",
       "  'networkInterfaces': [{'subnetwork': 'projects/nivacatchment/regions/europe-west3/subnetworks/default',\n",
       "    'accessConfigs': [{'kind': 'compute#networkInterface',\n",
       "      'name': 'External NAT',\n",
       "      'type': 'ONE_TO_ONE_NAT',\n",
       "      'networkTier': 'PREMIUM'}]}],\n",
       "  'tags': {'items': ['ftp']},\n",
       "  'disks': [{'boot': True,\n",
       "    'autoDelete': True,\n",
       "    'deviceName': 'mobiserver',\n",
       "    'initializeParams': {'sourceImage': 'https://www.googleapis.com/compute/v1/projects/debian-cloud/global/images/debian-9-stretch-v20190618'}}],\n",
       "  'metadata': {'items': [{'key': 'ssh-keys',\n",
       "     'value': 'jose-luis:ssh-rsa AAAAB3NzaC1yc2EAAAADAQABAAABAQDmftdop1X5gPThaz5McHS08zVica1Y4+ohyFQGR2d+/WU8zqcpy8k2imjV0MMYIVrcTYhdpLaQ8VV/iB2VMHRjV4Eg4EJtwIqxRvL37DCvn6jB6A1KuD2uX/EeCKKSlAiuHcBr+hMKncB0LfrZLtKD1m/NyKbXM2wzJjeEuouW80e7qPd2ul9u7kIo++7m6eNfG2+ukyPU7XUBQnwekRvcuHaVOPw4UmJFWcUajOeEg1Mf0k3xYP6Uexxbjg7e7y/xhiHQNzxUYAN/YfgGJZCTxvtlaPvpQHTj9G7K5YP938pJd/k+6Gj7RIZObGKx+Lr3DkGHAOeuWE9Cm0W+FH9t jose-luis'},\n",
       "    {'key': 'startup-script',\n",
       "     'value': '#! /bin/bash\\nyes | sudo apt-get update\\nyes | sudo apt-get install ftp lsof bzip2 openssl gcc make pure-ftpd pure-ftpd-common\\n#yes | curl https://download.pureftpd.org/pub/pure-ftpd/releases/pure-ftpd-1.0.46.tar.bz2 >  pure.tar.bz2\\n#yes | tar -xf pure.tar.bz2\\nsudo /usr/sbin/groupadd _pure-ftpd\\nsudo /usr/sbin/useradd -g _pure-ftpd -d /var/empty -s /etc _pure-ftpd\\n#cd ./pure-ftpd-1.0.46\\n#./configure --with-everything\\n#sudo make install-strip\\n'}]}}}"
      ]
     },
     "metadata": {},
     "output_type": "display_data"
    }
   ],
   "source": [
    "#Installation script for the VM\n",
    "#Startup script\n",
    "initScript = '''#! /bin/bash\n",
    "yes | sudo apt-get update\n",
    "yes | sudo apt-get install ftp lsof bzip2 openssl gcc make pure-ftpd pure-ftpd-common\n",
    "#yes | curl https://download.pureftpd.org/pub/pure-ftpd/releases/pure-ftpd-1.0.46.tar.bz2 >  pure.tar.bz2\n",
    "#yes | tar -xf pure.tar.bz2\n",
    "sudo /usr/sbin/groupadd _pure-ftpd\n",
    "sudo /usr/sbin/useradd -g _pure-ftpd -d /var/empty -s /etc _pure-ftpd\n",
    "#cd ./pure-ftpd-1.0.46\n",
    "#./configure --with-everything\n",
    "#sudo make install-strip\n",
    "'''\n",
    "\n",
    "# '''#! /bin/bash\n",
    "# yes | sudo apt-get update\n",
    "# yes | sudo apt-get install ftp pure-ftpd lsof xinetd openssl\n",
    "# cat <<EOF > /etc/xinetd.d/pure-ftpd\n",
    "# service ftp\n",
    "# {\n",
    "#         socket_type = stream\n",
    "#         server = /usr/sbin/pure-ftp\n",
    "#         server_args = -a 408 -c 5 -i -F /root/FTPmessage -O clf:var/log/pureftpd.log -N\n",
    "#         protocol = tcp\n",
    "#         user = root\n",
    "#         wait = no\n",
    "#         disable = no\n",
    "#         only_from 0.0.0.0/0\n",
    "# }\n",
    "# EOF\n",
    "# sudo service pure-ftpd stop\n",
    "# sudo service xinetd start\n",
    "# '''\n",
    "\n",
    "\n",
    "machineProperties = {\n",
    "  \"machineType\" : \"zones/{}/machineTypes/{}\".format(gce.properties['zone'],gce.properties['instanceType']),\n",
    "  \"name\" : gce.properties['instanceName'],\n",
    "  \"canIpForward\": \"false\",\n",
    "  \"networkInterfaces\": [\n",
    "     {\n",
    "       \"subnetwork\": \"projects/{}/regions/{}/subnetworks/default\".format(gce.properties['project'], '-'.join(gce.properties['zone'].split('-')[:-1]) ),\n",
    "       \"accessConfigs\": [\n",
    "        {\n",
    "          \"kind\": \"compute#networkInterface\",\n",
    "          \"name\": \"External NAT\",\n",
    "          \"type\": \"ONE_TO_ONE_NAT\",\n",
    "          \"networkTier\": \"PREMIUM\"\n",
    "        }\n",
    "       ]     \n",
    "     }\n",
    "     ],\n",
    "    \n",
    " \"tags\": {\n",
    "    \"items\": [\n",
    "      \"ftp\"\n",
    "    ]\n",
    "  },\n",
    "  \"disks\": [\n",
    "    {\n",
    "      \"boot\": True,\n",
    "      \"autoDelete\": True,\n",
    "      \"deviceName\": gce.properties['instanceName'],\n",
    "      \"initializeParams\": {\n",
    "        \"sourceImage\": currentImages[-1][0],\n",
    "#         \"diskType\": \"projects/{}/zones/{}/diskTypes/pd-standard\".format(gce.project,gce.zone),\n",
    "#         \"diskSizeGb\": diskSize\n",
    "      }\n",
    "    }\n",
    "  ],\n",
    "  \"metadata\": {\n",
    "    \"items\": [\n",
    "      {\n",
    "       \"key\": \"ssh-keys\",\n",
    "       \"value\": gce.properties[\"username\"] + ':' + pub\n",
    "      },\n",
    "      {\n",
    "       \"key\": \"startup-script\",\n",
    "       \"value\": initScript\n",
    "      },\n",
    "        \n",
    "    ]\n",
    "  } \n",
    "}\n",
    "\n",
    "params = {\n",
    "    'requestId': requestId,\n",
    "}\n",
    "\n",
    "def getNames(info):\n",
    "    return [i['name'] for i in info['items']]\n",
    "\n",
    "info = gce.get('instances')\n",
    "if gce.properties['instanceName'] not in getNames(info):\n",
    "    info = gce.post('instances',json=machineProperties)    "
   ]
  },
  {
   "cell_type": "code",
   "execution_count": 9,
   "metadata": {},
   "outputs": [
    {
     "data": {
      "text/plain": [
       "{}"
      ]
     },
     "metadata": {},
     "output_type": "display_data"
    },
    {
     "data": {
      "text/plain": [
       "'PROVISIONING'"
      ]
     },
     "metadata": {},
     "output_type": "display_data"
    },
    {
     "data": {
      "text/plain": [
       "{}"
      ]
     },
     "metadata": {},
     "output_type": "display_data"
    },
    {
     "data": {
      "text/plain": [
       "'PROVISIONING'"
      ]
     },
     "metadata": {},
     "output_type": "display_data"
    },
    {
     "data": {
      "text/plain": [
       "{}"
      ]
     },
     "metadata": {},
     "output_type": "display_data"
    },
    {
     "data": {
      "text/plain": [
       "'PROVISIONING'"
      ]
     },
     "metadata": {},
     "output_type": "display_data"
    },
    {
     "data": {
      "text/plain": [
       "{}"
      ]
     },
     "metadata": {},
     "output_type": "display_data"
    },
    {
     "data": {
      "text/plain": [
       "'STAGING'"
      ]
     },
     "metadata": {},
     "output_type": "display_data"
    },
    {
     "data": {
      "text/plain": [
       "{}"
      ]
     },
     "metadata": {},
     "output_type": "display_data"
    },
    {
     "data": {
      "text/plain": [
       "'STAGING'"
      ]
     },
     "metadata": {},
     "output_type": "display_data"
    },
    {
     "data": {
      "text/plain": [
       "{}"
      ]
     },
     "metadata": {},
     "output_type": "display_data"
    },
    {
     "data": {
      "text/plain": [
       "'STAGING'"
      ]
     },
     "metadata": {},
     "output_type": "display_data"
    },
    {
     "data": {
      "text/plain": [
       "{}"
      ]
     },
     "metadata": {},
     "output_type": "display_data"
    },
    {
     "data": {
      "text/plain": [
       "'STAGING'"
      ]
     },
     "metadata": {},
     "output_type": "display_data"
    },
    {
     "data": {
      "text/plain": [
       "{}"
      ]
     },
     "metadata": {},
     "output_type": "display_data"
    },
    {
     "data": {
      "text/plain": [
       "'STAGING'"
      ]
     },
     "metadata": {},
     "output_type": "display_data"
    },
    {
     "data": {
      "text/plain": [
       "{}"
      ]
     },
     "metadata": {},
     "output_type": "display_data"
    },
    {
     "data": {
      "text/plain": [
       "'STAGING'"
      ]
     },
     "metadata": {},
     "output_type": "display_data"
    },
    {
     "data": {
      "text/plain": [
       "{}"
      ]
     },
     "metadata": {},
     "output_type": "display_data"
    },
    {
     "data": {
      "text/plain": [
       "'STAGING'"
      ]
     },
     "metadata": {},
     "output_type": "display_data"
    },
    {
     "data": {
      "text/plain": [
       "{}"
      ]
     },
     "metadata": {},
     "output_type": "display_data"
    },
    {
     "data": {
      "text/plain": [
       "'STAGING'"
      ]
     },
     "metadata": {},
     "output_type": "display_data"
    },
    {
     "data": {
      "text/plain": [
       "{}"
      ]
     },
     "metadata": {},
     "output_type": "display_data"
    },
    {
     "data": {
      "text/plain": [
       "'STAGING'"
      ]
     },
     "metadata": {},
     "output_type": "display_data"
    },
    {
     "data": {
      "text/plain": [
       "{}"
      ]
     },
     "metadata": {},
     "output_type": "display_data"
    },
    {
     "data": {
      "text/plain": [
       "'STAGING'"
      ]
     },
     "metadata": {},
     "output_type": "display_data"
    },
    {
     "data": {
      "text/plain": [
       "{}"
      ]
     },
     "metadata": {},
     "output_type": "display_data"
    },
    {
     "data": {
      "text/plain": [
       "'STAGING'"
      ]
     },
     "metadata": {},
     "output_type": "display_data"
    },
    {
     "data": {
      "text/plain": [
       "{}"
      ]
     },
     "metadata": {},
     "output_type": "display_data"
    },
    {
     "data": {
      "text/plain": [
       "'STAGING'"
      ]
     },
     "metadata": {},
     "output_type": "display_data"
    },
    {
     "data": {
      "text/plain": [
       "{}"
      ]
     },
     "metadata": {},
     "output_type": "display_data"
    },
    {
     "data": {
      "text/plain": [
       "'STAGING'"
      ]
     },
     "metadata": {},
     "output_type": "display_data"
    },
    {
     "data": {
      "text/plain": [
       "{}"
      ]
     },
     "metadata": {},
     "output_type": "display_data"
    },
    {
     "data": {
      "text/plain": [
       "'RUNNING'"
      ]
     },
     "metadata": {},
     "output_type": "display_data"
    },
    {
     "data": {
      "text/plain": [
       "'35.246.138.174'"
      ]
     },
     "metadata": {},
     "output_type": "display_data"
    }
   ],
   "source": [
    "#Waiting until the instance is running\n",
    "info = gce.get('instanceInfo')\n",
    "display(info['status'])\n",
    "while (info['status'] != 'RUNNING'):\n",
    "    time.sleep(.1)\n",
    "    info  = gce.get('instanceInfo')\n",
    "    display(info['status'])\n",
    "\n",
    "gce.properties['ip'] = info['networkInterfaces'][0]['accessConfigs'][0]['natIP']\n",
    "display(gce.properties['ip'])\n"
   ]
  },
  {
   "cell_type": "code",
   "execution_count": 10,
   "metadata": {},
   "outputs": [
    {
     "data": {
      "text/plain": [
       "['Jul 18 17:06:21 mobiserver systemd[1]: Startup finished in 1.568s (kernel) + 18.455s (userspace) = 20.023s.']"
      ]
     },
     "metadata": {},
     "output_type": "display_data"
    }
   ],
   "source": [
    "#Waiting for startup script to complete\n",
    "params={\n",
    "    'port': 1,\n",
    "    'start': 0\n",
    "}\n",
    "\n",
    "response=gce.get('serialPort',params=params)\n",
    "while 'Startup finished in' not in response['contents']:\n",
    "    time.sleep(5)\n",
    "    clear_output()\n",
    "    params['start'] = int(response['next'])\n",
    "    response=gce.get('serialPort',params=params)\n",
    "    lines = response['contents'].splitlines()\n",
    "    display(lines[-10:])\n",
    "    \n",
    "clear_output()\n",
    "lines = response['contents'].splitlines()\n",
    "display([i for i in lines if \"Startup finished in\" in i])"
   ]
  },
  {
   "cell_type": "code",
   "execution_count": 11,
   "metadata": {},
   "outputs": [
    {
     "name": "stdout",
     "output_type": "stream",
     "text": [
      "\u001b[1;37myes | ls -lah /usr/sbin\u001b[0m\n"
     ]
    },
    {
     "data": {
      "text/plain": [
       "'Command output stored in output.txt'"
      ]
     },
     "metadata": {},
     "output_type": "display_data"
    }
   ],
   "source": [
    "#Testing connection with Fabric\n",
    "c = Connection(\n",
    "    host=gce.properties['ip'],\n",
    "    user=gce.properties['username'],\n",
    "    connect_kwargs={\n",
    "        \"key_filename\": gce.properties['keyFile'],\n",
    "    },\n",
    ")\n",
    "\n",
    "with io.open('output.txt', 'w') as file:\n",
    "    p = c.run('yes | ls -lah /usr/sbin',pty=True,echo=True,out_stream=file)\n",
    "\n",
    "if p.stderr != '':\n",
    "    display(\"There were some errors: {}\".format(p.stderr))\n",
    "else:\n",
    "    display(\"Command output stored in {}\".format(file.name))\n"
   ]
  },
  {
   "cell_type": "code",
   "execution_count": 12,
   "metadata": {},
   "outputs": [
    {
     "data": {
      "text/plain": [
       "<Result cmd=\"sudo -S -p '[sudo] password: ' chmod 0777 /home/\" exited=0>"
      ]
     },
     "execution_count": 12,
     "metadata": {},
     "output_type": "execute_result"
    }
   ],
   "source": [
    "#Adding a system user that will \"host\" all virtual users\n",
    "#This is to avoid creating a system user for all the people that are granted access right\n",
    "from IPython.core.interactiveshell import InteractiveShell\n",
    "InteractiveShell.ast_node_interactivity = \"all\"\n",
    "\n",
    "c.sudo('/usr/sbin/groupadd -f ftpgroup')\n",
    "#Checking if user exists before adding it\n",
    "result = c.run('getent passwd ftpuser',warn=True)\n",
    "if result.stdout != '':\n",
    "    c.sudo('/usr/sbin/userdel ftpuser')\n",
    "#Adding user to the group    \n",
    "c.sudo('/usr/sbin/useradd -g ftpgroup -d /dev/null -s /etc ftpuser')\n",
    "#Creating a base directory for all users\n",
    "c.sudo('mkdir /home/ftp')\n",
    "c.sudo('chmod 0777 /home/')"
   ]
  },
  {
   "cell_type": "code",
   "execution_count": 13,
   "metadata": {},
   "outputs": [
    {
     "name": "stderr",
     "output_type": "stream",
     "text": [
      "Unable to open the passwd file: No such file or directory\n"
     ]
    },
    {
     "name": "stdout",
     "output_type": "stream",
     "text": [
      "Password: \n",
      "Enter it again: \n"
     ]
    },
    {
     "data": {
      "text/plain": [
       "<Result cmd=\"sudo -S -p '[sudo] password: ' pure-pw useradd magnus -u ftpuser -d /home/ftp/\" exited=0>"
      ]
     },
     "execution_count": 13,
     "metadata": {},
     "output_type": "execute_result"
    },
    {
     "data": {
      "text/plain": [
       "<Result cmd=\"sudo -S -p '[sudo] password: ' pure-pw mkdb\" exited=0>"
      ]
     },
     "execution_count": 13,
     "metadata": {},
     "output_type": "execute_result"
    }
   ],
   "source": [
    "user = 'magnus'\n",
    "password = 'dummy'\n",
    "#First checking if user exists\n",
    "result = c.sudo('''pure-pw list | awk '{{print match($1,\"{}\") ? \"true\" : \"false\"}} ' '''.format(user))\n",
    "isUser = [i=='true' for i in result.stdout.splitlines()]\n",
    "#Deleting it if it does\n",
    "if any(isUser):\n",
    "    display(\"Gonna delete {}\".format(user))\n",
    "    c.sudo('pure-pw userdel {}'.format(user))\n",
    "    c.sudo('pure-pw mkdb')\n",
    "#Creating user \n",
    "enterPass = Responder(\n",
    "        pattern=r\"Password:\",\n",
    "        response='{}\\n'.format(password),\n",
    "    )\n",
    "confirmPass = Responder(\n",
    "        pattern=r\"Enter it again:\",\n",
    "        response='{}\\n'.format(password),\n",
    "    )\n",
    "\n",
    "c.sudo('pure-pw useradd {0} -u ftpuser -d /home/ftp/'.format(user),watchers=[enterPass,confirmPass])\n",
    "c.sudo('pure-pw mkdb')"
   ]
  },
  {
   "cell_type": "code",
   "execution_count": 14,
   "metadata": {},
   "outputs": [
    {
     "data": {
      "text/plain": [
       "<Result cmd=\"sudo -S -p '[sudo] password: ' ln -sf /etc/pure-ftpd/conf/PureDB /etc/pure-ftpd/auth/PureDB\" exited=0>"
      ]
     },
     "execution_count": 14,
     "metadata": {},
     "output_type": "execute_result"
    },
    {
     "name": "stdout",
     "output_type": "stream",
     "text": [
      "yes\n"
     ]
    },
    {
     "data": {
      "text/plain": [
       "<Result cmd='echo \"yes\" | sudo tee /etc/pure-ftpd/conf/ChrootEveryone' exited=0>"
      ]
     },
     "execution_count": 14,
     "metadata": {},
     "output_type": "execute_result"
    },
    {
     "name": "stdout",
     "output_type": "stream",
     "text": [
      "no\n"
     ]
    },
    {
     "data": {
      "text/plain": [
       "<Result cmd='echo \"no\"  | sudo tee /etc/pure-ftpd/conf/CreateHomeDir' exited=0>"
      ]
     },
     "execution_count": 14,
     "metadata": {},
     "output_type": "execute_result"
    },
    {
     "name": "stdout",
     "output_type": "stream",
     "text": [
      "no\n"
     ]
    },
    {
     "data": {
      "text/plain": [
       "<Result cmd='echo \"no\"  | sudo tee /etc/pure-ftpd/conf/PAMAuthentication' exited=0>"
      ]
     },
     "execution_count": 14,
     "metadata": {},
     "output_type": "execute_result"
    },
    {
     "name": "stdout",
     "output_type": "stream",
     "text": [
      "1\n"
     ]
    },
    {
     "data": {
      "text/plain": [
       "<Result cmd='echo \"1\"   | sudo tee /etc/pure-ftpd/conf/TLS' exited=0>"
      ]
     },
     "execution_count": 14,
     "metadata": {},
     "output_type": "execute_result"
    },
    {
     "name": "stdout",
     "output_type": "stream",
     "text": [
      "40110 40210\n"
     ]
    },
    {
     "data": {
      "text/plain": [
       "<Result cmd='echo \"40110 40210\" | sudo tee /etc/pure-ftpd/conf/PassivePortRange' exited=0>"
      ]
     },
     "execution_count": 14,
     "metadata": {},
     "output_type": "execute_result"
    },
    {
     "name": "stdout",
     "output_type": "stream",
     "text": [
      "35.246.138.174\n"
     ]
    },
    {
     "data": {
      "text/plain": [
       "<Result cmd='echo \"35.246.138.174\" | sudo tee /etc/pure-ftpd/conf/ForcePassiveIP' exited=0>"
      ]
     },
     "execution_count": 14,
     "metadata": {},
     "output_type": "execute_result"
    },
    {
     "data": {
      "text/plain": [
       "<Result cmd='mkdir -p /etc/ssl/private' exited=0>"
      ]
     },
     "execution_count": 14,
     "metadata": {},
     "output_type": "execute_result"
    },
    {
     "name": "stderr",
     "output_type": "stream",
     "text": [
      "Generating DH parameters, 2048 bit long safe prime, generator 2\n",
      "This is going to take a long time\n",
      "......................................+............................................................................................................................................................................................................................................................................................................................................+...............................................................................................+........+..................................................................................................................................................+............................................................................................................+.......................+...........................................+.............................................................................................................................................................................................................................................................+......................................+....................+..........................................+............................................................++*++*++*++*\n"
     ]
    },
    {
     "data": {
      "text/plain": [
       "<Result cmd='sudo openssl dhparam -out /etc/ssl/private/pure-ftpd-dhparams.pem 2048' exited=0>"
      ]
     },
     "execution_count": 14,
     "metadata": {},
     "output_type": "execute_result"
    },
    {
     "name": "stdout",
     "output_type": "stream",
     "text": [
      "Generating a RSA private key\n",
      ".............................................................+++++\n",
      ".............................+++++\n",
      "writing new private key to '/etc/ssl/private/pure-ftpd.pem'\n",
      "-----\n",
      "You are about to be asked to enter information that will be incorporated\n",
      "into your certificate request.\n",
      "What you are about to enter is what is called a Distinguished Name or a DN.\n",
      "There are quite a few fields but you can leave some blank\n",
      "For some fields there will be a default value,\n",
      "If you enter '.', the field will be left blank.\n",
      "-----\n",
      "Country Name (2 letter code) [AU]:NO\n",
      "State or Province Name (full name) [Some-State]:Oslo\n",
      "Locality Name (eg, city) []:Oslo\n",
      "Organization Name (eg, company) [Internet Widgits Pty Ltd]:NIVA\n",
      "Organizational Unit Name (eg, section) []:Catchment Biogeochemistry\n",
      "Common Name (e.g. server FQDN or YOUR name) []:Jose-Luis\n",
      "Email Address []:jlg@niva.no\n"
     ]
    },
    {
     "data": {
      "text/plain": [
       "<Result cmd='sudo openssl req -x509 -nodes -newkey rsa:2048 -sha256 -keyout   /etc/ssl/private/pure-ftpd.pem   -out /etc/ssl/private/pure-ftpd.pem' exited=0>"
      ]
     },
     "execution_count": 14,
     "metadata": {},
     "output_type": "execute_result"
    },
    {
     "data": {
      "text/plain": [
       "<Result cmd=\"sudo -S -p '[sudo] password: ' chmod 600 /etc/ssl/private/pure-ftpd.pem\" exited=0>"
      ]
     },
     "execution_count": 14,
     "metadata": {},
     "output_type": "execute_result"
    },
    {
     "data": {
      "text/plain": [
       "<Result cmd=\"sudo -S -p '[sudo] password: ' chmod 600 /etc/ssl/private/pure-ftpd-dhparams.pem\" exited=0>"
      ]
     },
     "execution_count": 14,
     "metadata": {},
     "output_type": "execute_result"
    },
    {
     "data": {
      "text/plain": [
       "<Result cmd=\"sudo -S -p '[sudo] password: ' service pure-ftpd restart\" exited=0>"
      ]
     },
     "execution_count": 14,
     "metadata": {},
     "output_type": "execute_result"
    }
   ],
   "source": [
    "#Adding puredb (virtual users) as the only (?) authentication method\n",
    "c.sudo('ln -sf /etc/pure-ftpd/conf/PureDB /etc/pure-ftpd/auth/PureDB')\n",
    "c.run('echo \"yes\" | sudo tee /etc/pure-ftpd/conf/ChrootEveryone')\n",
    "c.run('echo \"no\"  | sudo tee /etc/pure-ftpd/conf/CreateHomeDir')\n",
    "#c.run('echo \"no\"  | sudo tee /etc/pure-ftpd/conf/UnixAuthentication')\n",
    "c.run('echo \"no\"  | sudo tee /etc/pure-ftpd/conf/PAMAuthentication')\n",
    "c.run('echo \"no\"  | sudo tee /etc/pure-ftpd/conf/NoAnonymous')\n",
    "c.run('echo \"1\"   | sudo tee /etc/pure-ftpd/conf/TLS')\n",
    "c.run('echo \"40110 40210\" | sudo tee /etc/pure-ftpd/conf/PassivePortRange')\n",
    "c.run('echo \"{}\" | sudo tee /etc/pure-ftpd/conf/ForcePassiveIP'.format(gce.properties['ip']))\n",
    "c.run('mkdir -p /etc/ssl/private')\n",
    "c.run('sudo openssl dhparam -out /etc/ssl/private/pure-ftpd-dhparams.pem 2048')\n",
    "\n",
    "#Need to complete the dialog for the generation of the key file\n",
    "SSLsettings = [ Responder(\n",
    "        pattern=r\"Country Name .*\",\n",
    "        response='NO\\n',\n",
    "                          ),\n",
    "               Responder(\n",
    "        pattern=r\"State or Province Name .*\",\n",
    "        response='Oslo\\n',\n",
    "                          ),\n",
    "               Responder(\n",
    "        pattern=r\"Locality Name .*\",\n",
    "        response='Oslo\\n',\n",
    "                          ),\n",
    "               Responder(\n",
    "        pattern=r\"Organization Name .*\",\n",
    "        response='NIVA\\n',\n",
    "                          ),\n",
    "               Responder(\n",
    "        pattern=r\"Organizational Unit Name .*\",\n",
    "        response='Catchment Biogeochemistry\\n',\n",
    "                          ),\n",
    "               Responder(\n",
    "        pattern=r\"Common Name .*\",\n",
    "        response='Jose-Luis\\n',\n",
    "                          ),\n",
    "               Responder(\n",
    "        pattern=r\"Email Address .*\",\n",
    "        response='jlg@niva.no\\n',\n",
    "                          )\n",
    "    ]\n",
    "c.run('sudo openssl req -x509 -nodes -newkey rsa:2048 -sha256 -keyout \\\n",
    "  /etc/ssl/private/pure-ftpd.pem \\\n",
    "  -out /etc/ssl/private/pure-ftpd.pem', pty=True, watchers=SSLsettings)\n",
    "c.sudo('chmod 600 /etc/ssl/private/pure-ftpd.pem')\n",
    "c.sudo('chmod 600 /etc/ssl/private/pure-ftpd-dhparams.pem')\n",
    "c.sudo('service pure-ftpd restart')"
   ]
  },
  {
   "cell_type": "code",
   "execution_count": 15,
   "metadata": {},
   "outputs": [
    {
     "data": {
      "text/plain": [
       "'35.246.138.174'"
      ]
     },
     "metadata": {},
     "output_type": "display_data"
    }
   ],
   "source": [
    "display(gce.properties['ip'])"
   ]
  },
  {
   "cell_type": "code",
   "execution_count": 17,
   "metadata": {},
   "outputs": [],
   "source": [
    "import pyperclip\n",
    "pyperclip.copy(gce.properties['ip'])"
   ]
  },
  {
   "cell_type": "markdown",
   "metadata": {},
   "source": [
    "### Setting up the directories for"
   ]
  }
 ],
 "metadata": {
  "kernelspec": {
   "display_name": "Python 3",
   "language": "python",
   "name": "python3"
  },
  "language_info": {
   "codemirror_mode": {
    "name": "ipython",
    "version": 3
   },
   "file_extension": ".py",
   "mimetype": "text/x-python",
   "name": "python",
   "nbconvert_exporter": "python",
   "pygments_lexer": "ipython3",
   "version": "3.6.3"
  }
 },
 "nbformat": 4,
 "nbformat_minor": 4
}
